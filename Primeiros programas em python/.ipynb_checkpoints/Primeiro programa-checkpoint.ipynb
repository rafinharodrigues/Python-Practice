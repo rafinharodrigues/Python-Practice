{
 "cells": [
  {
   "cell_type": "markdown",
   "id": "4b47f9ee",
   "metadata": {},
   "source": [
    "## Meu primeiro programa"
   ]
  },
  {
   "cell_type": "code",
   "execution_count": 1,
   "id": "9a512569",
   "metadata": {},
   "outputs": [
    {
     "name": "stdout",
     "output_type": "stream",
     "text": [
      "123\n"
     ]
    }
   ],
   "source": [
    "print(123)"
   ]
  },
  {
   "cell_type": "code",
   "execution_count": 2,
   "id": "cb3bf774",
   "metadata": {},
   "outputs": [
    {
     "name": "stdout",
     "output_type": "stream",
     "text": [
      "texto com aspas duplas\n"
     ]
    }
   ],
   "source": [
    "print(\"texto com aspas duplas\")"
   ]
  },
  {
   "cell_type": "code",
   "execution_count": 3,
   "id": "d281edbf",
   "metadata": {},
   "outputs": [
    {
     "name": "stdout",
     "output_type": "stream",
     "text": [
      "texto com aspas simples\n"
     ]
    }
   ],
   "source": [
    "print('texto com aspas simples')"
   ]
  },
  {
   "cell_type": "code",
   "execution_count": 4,
   "id": "6e003c3a",
   "metadata": {},
   "outputs": [
    {
     "ename": "SyntaxError",
     "evalue": "invalid syntax (Temp/ipykernel_18288/258198761.py, line 1)",
     "output_type": "error",
     "traceback": [
      "\u001b[1;36m  File \u001b[1;32m\"C:\\Users\\rafin\\AppData\\Local\\Temp/ipykernel_18288/258198761.py\"\u001b[1;36m, line \u001b[1;32m1\u001b[0m\n\u001b[1;33m    print(texto sem aspas)\u001b[0m\n\u001b[1;37m                ^\u001b[0m\n\u001b[1;31mSyntaxError\u001b[0m\u001b[1;31m:\u001b[0m invalid syntax\n"
     ]
    }
   ],
   "source": [
    "print(texto sem aspas)"
   ]
  },
  {
   "cell_type": "code",
   "execution_count": null,
   "id": "690c85dd",
   "metadata": {},
   "outputs": [],
   "source": []
  }
 ],
 "metadata": {
  "kernelspec": {
   "display_name": "Python 3 (ipykernel)",
   "language": "python",
   "name": "python3"
  },
  "language_info": {
   "codemirror_mode": {
    "name": "ipython",
    "version": 3
   },
   "file_extension": ".py",
   "mimetype": "text/x-python",
   "name": "python",
   "nbconvert_exporter": "python",
   "pygments_lexer": "ipython3",
   "version": "3.9.7"
  }
 },
 "nbformat": 4,
 "nbformat_minor": 5
}
