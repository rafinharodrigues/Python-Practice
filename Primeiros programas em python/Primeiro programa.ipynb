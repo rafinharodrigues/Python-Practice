{
 "cells": [
  {
   "cell_type": "markdown",
   "id": "4b47f9ee",
   "metadata": {},
   "source": [
    "## Meu primeiro programa"
   ]
  },
  {
   "cell_type": "code",
   "execution_count": 2,
   "id": "9a512569",
   "metadata": {},
   "outputs": [
    {
     "name": "stdout",
     "output_type": "stream",
     "text": [
      "123\n"
     ]
    }
   ],
   "source": [
    "print(123)"
   ]
  },
  {
   "cell_type": "code",
   "execution_count": 3,
   "id": "4caccb61",
   "metadata": {},
   "outputs": [
    {
     "name": "stdout",
     "output_type": "stream",
     "text": [
      "texto com aspas duplas\n"
     ]
    }
   ],
   "source": [
    "print(\"texto com aspas duplas\")"
   ]
  },
  {
   "cell_type": "code",
   "execution_count": 4,
   "id": "51779f6f",
   "metadata": {},
   "outputs": [
    {
     "name": "stdout",
     "output_type": "stream",
     "text": [
      "texto com aspas simples\n"
     ]
    }
   ],
   "source": [
    "print('texto com aspas simples')"
   ]
  },
  {
   "cell_type": "code",
   "execution_count": 5,
   "id": "52fff8e5",
   "metadata": {},
   "outputs": [
    {
     "ename": "SyntaxError",
     "evalue": "invalid syntax (Temp/ipykernel_3324/885276272.py, line 1)",
     "output_type": "error",
     "traceback": [
      "\u001b[1;36m  File \u001b[1;32m\"C:\\Users\\rafin\\AppData\\Local\\Temp/ipykernel_3324/885276272.py\"\u001b[1;36m, line \u001b[1;32m1\u001b[0m\n\u001b[1;33m    print(texto sem aspas) # print com texto sem aspas causa erro\u001b[0m\n\u001b[1;37m                ^\u001b[0m\n\u001b[1;31mSyntaxError\u001b[0m\u001b[1;31m:\u001b[0m invalid syntax\n"
     ]
    }
   ],
   "source": [
    "print(texto sem aspas) # print com texto sem aspas causa erro"
   ]
  },
  {
   "cell_type": "markdown",
   "id": "d5cd888b",
   "metadata": {},
   "source": [
    "## Operações básicas"
   ]
  },
  {
   "cell_type": "code",
   "execution_count": 6,
   "id": "4623d4a2",
   "metadata": {},
   "outputs": [
    {
     "name": "stdout",
     "output_type": "stream",
     "text": [
      "4\n"
     ]
    }
   ],
   "source": [
    "print(2 + 2)"
   ]
  },
  {
   "cell_type": "code",
   "execution_count": 7,
   "id": "c81185b4",
   "metadata": {},
   "outputs": [
    {
     "name": "stdout",
     "output_type": "stream",
     "text": [
      "0\n"
     ]
    }
   ],
   "source": [
    "print(2 - 2)"
   ]
  },
  {
   "cell_type": "code",
   "execution_count": 8,
   "id": "65217272",
   "metadata": {},
   "outputs": [
    {
     "name": "stdout",
     "output_type": "stream",
     "text": [
      "9\n"
     ]
    }
   ],
   "source": [
    "print(3 * 3)"
   ]
  },
  {
   "cell_type": "code",
   "execution_count": 9,
   "id": "06dcd9bf",
   "metadata": {},
   "outputs": [
    {
     "name": "stdout",
     "output_type": "stream",
     "text": [
      "1.0\n"
     ]
    }
   ],
   "source": [
    "print(3 / 3)"
   ]
  },
  {
   "cell_type": "code",
   "execution_count": 10,
   "id": "e8f553fb",
   "metadata": {},
   "outputs": [
    {
     "name": "stdout",
     "output_type": "stream",
     "text": [
      "1.5\n"
     ]
    }
   ],
   "source": [
    "print(3.0 / 2)"
   ]
  },
  {
   "cell_type": "code",
   "execution_count": 11,
   "id": "4e19a694",
   "metadata": {},
   "outputs": [
    {
     "name": "stdout",
     "output_type": "stream",
     "text": [
      "1.5\n"
     ]
    }
   ],
   "source": [
    "print(3 / 2)"
   ]
  },
  {
   "cell_type": "code",
   "execution_count": 12,
   "id": "d3596e4b",
   "metadata": {},
   "outputs": [
    {
     "name": "stdout",
     "output_type": "stream",
     "text": [
      "1\n"
     ]
    }
   ],
   "source": [
    "print(3 // 2)"
   ]
  },
  {
   "cell_type": "code",
   "execution_count": 13,
   "id": "b4fbf696",
   "metadata": {},
   "outputs": [
    {
     "name": "stdout",
     "output_type": "stream",
     "text": [
      "1.0\n"
     ]
    }
   ],
   "source": [
    "print(3.0 // 2)"
   ]
  },
  {
   "cell_type": "code",
   "execution_count": 14,
   "id": "6193a32e",
   "metadata": {},
   "outputs": [
    {
     "name": "stdout",
     "output_type": "stream",
     "text": [
      "27\n"
     ]
    }
   ],
   "source": [
    "print(3 ** 3)"
   ]
  },
  {
   "cell_type": "code",
   "execution_count": 15,
   "id": "9dc715d4",
   "metadata": {},
   "outputs": [
    {
     "name": "stdout",
     "output_type": "stream",
     "text": [
      "1\n"
     ]
    }
   ],
   "source": [
    "print( 7 % 3)"
   ]
  },
  {
   "cell_type": "code",
   "execution_count": 16,
   "id": "3c421586",
   "metadata": {},
   "outputs": [
    {
     "name": "stdout",
     "output_type": "stream",
     "text": [
      "0\n"
     ]
    }
   ],
   "source": [
    "print(10 % 2)"
   ]
  },
  {
   "cell_type": "markdown",
   "id": "f7d5292b",
   "metadata": {},
   "source": [
    "## Ordem das operações no Python"
   ]
  },
  {
   "cell_type": "code",
   "execution_count": 17,
   "id": "b346ef54",
   "metadata": {},
   "outputs": [
    {
     "name": "stdout",
     "output_type": "stream",
     "text": [
      "4\n"
     ]
    }
   ],
   "source": [
    "print(2 + 2)"
   ]
  },
  {
   "cell_type": "code",
   "execution_count": 18,
   "id": "a5c13079",
   "metadata": {},
   "outputs": [
    {
     "name": "stdout",
     "output_type": "stream",
     "text": [
      "5\n"
     ]
    }
   ],
   "source": [
    "print(2 + 1 + 2)"
   ]
  },
  {
   "cell_type": "code",
   "execution_count": 19,
   "id": "b803388e",
   "metadata": {},
   "outputs": [
    {
     "name": "stdout",
     "output_type": "stream",
     "text": [
      "8\n"
     ]
    }
   ],
   "source": [
    "print(2 + 3 * 2)"
   ]
  },
  {
   "cell_type": "code",
   "execution_count": 20,
   "id": "dba9d2a7",
   "metadata": {},
   "outputs": [
    {
     "name": "stdout",
     "output_type": "stream",
     "text": [
      "10\n"
     ]
    }
   ],
   "source": [
    "print((2 + 3) * 2)"
   ]
  },
  {
   "cell_type": "code",
   "execution_count": 21,
   "id": "09cc7614",
   "metadata": {},
   "outputs": [
    {
     "name": "stdout",
     "output_type": "stream",
     "text": [
      "8\n"
     ]
    }
   ],
   "source": [
    "print(2 + (3 * 2))"
   ]
  },
  {
   "cell_type": "markdown",
   "id": "413ba5af",
   "metadata": {},
   "source": [
    "## Operações com strings"
   ]
  },
  {
   "cell_type": "code",
   "execution_count": 22,
   "id": "4250bdbe",
   "metadata": {},
   "outputs": [
    {
     "name": "stdout",
     "output_type": "stream",
     "text": [
      "O garotoexemplar.\n"
     ]
    }
   ],
   "source": [
    "print('O garoto' + 'exemplar.')"
   ]
  },
  {
   "cell_type": "code",
   "execution_count": 23,
   "id": "70c9901e",
   "metadata": {},
   "outputs": [
    {
     "name": "stdout",
     "output_type": "stream",
     "text": [
      "O garoto exemplar.\n"
     ]
    }
   ],
   "source": [
    "print('O garoto ' + 'exemplar.')"
   ]
  },
  {
   "cell_type": "code",
   "execution_count": 24,
   "id": "e59224a8",
   "metadata": {},
   "outputs": [
    {
     "name": "stdout",
     "output_type": "stream",
     "text": [
      "True\n"
     ]
    }
   ],
   "source": [
    "print('t' in 'O garoto exemplar.')"
   ]
  },
  {
   "cell_type": "code",
   "execution_count": 25,
   "id": "5ab98d24",
   "metadata": {},
   "outputs": [
    {
     "name": "stdout",
     "output_type": "stream",
     "text": [
      "False\n"
     ]
    }
   ],
   "source": [
    "print('T' in 'O garoto exemplar.')"
   ]
  },
  {
   "cell_type": "markdown",
   "id": "00bdd810",
   "metadata": {},
   "source": [
    "## Variáveis"
   ]
  },
  {
   "cell_type": "code",
   "execution_count": 26,
   "id": "604ddc5f",
   "metadata": {},
   "outputs": [],
   "source": [
    "num = 1500\n",
    "name = 'rafael'"
   ]
  },
  {
   "cell_type": "code",
   "execution_count": 27,
   "id": "04e5af9f",
   "metadata": {},
   "outputs": [
    {
     "name": "stdout",
     "output_type": "stream",
     "text": [
      "1500\n"
     ]
    }
   ],
   "source": [
    "print(num)"
   ]
  },
  {
   "cell_type": "code",
   "execution_count": 28,
   "id": "19d3d82e",
   "metadata": {},
   "outputs": [
    {
     "name": "stdout",
     "output_type": "stream",
     "text": [
      "rafael\n"
     ]
    }
   ],
   "source": [
    "print(name)"
   ]
  },
  {
   "cell_type": "code",
   "execution_count": 29,
   "id": "d8ffe8c4",
   "metadata": {},
   "outputs": [
    {
     "name": "stdout",
     "output_type": "stream",
     "text": [
      "rafael 1500\n"
     ]
    }
   ],
   "source": [
    "print(name, num)"
   ]
  },
  {
   "cell_type": "markdown",
   "id": "85ebf028",
   "metadata": {},
   "source": [
    "## Input - Pegando informações do usuário"
   ]
  },
  {
   "cell_type": "code",
   "execution_count": 30,
   "id": "14b7e1fb",
   "metadata": {},
   "outputs": [
    {
     "name": "stdout",
     "output_type": "stream",
     "text": [
      "Qual é o seu nome?\n"
     ]
    },
    {
     "data": {
      "text/plain": [
       "''"
      ]
     },
     "execution_count": 30,
     "metadata": {},
     "output_type": "execute_result"
    }
   ],
   "source": [
    "input('Qual é o seu nome?')"
   ]
  },
  {
   "cell_type": "code",
   "execution_count": 31,
   "id": "7ab97648",
   "metadata": {},
   "outputs": [
    {
     "name": "stdout",
     "output_type": "stream",
     "text": [
      "Qual é o seu nome?\n"
     ]
    }
   ],
   "source": [
    "name = input('Qual é o seu nome?')"
   ]
  },
  {
   "cell_type": "code",
   "execution_count": 32,
   "id": "f9890559",
   "metadata": {},
   "outputs": [
    {
     "name": "stdout",
     "output_type": "stream",
     "text": [
      "Qual é o seu nome?\n",
      "\n"
     ]
    }
   ],
   "source": [
    "name = input('Qual é o seu nome?')\n",
    "print(name)"
   ]
  },
  {
   "cell_type": "code",
   "execution_count": 33,
   "id": "ef42149c",
   "metadata": {},
   "outputs": [
    {
     "name": "stdout",
     "output_type": "stream",
     "text": [
      "Qual o seu primeiro nome?\n",
      "Qual é o seu sobrenome?\n",
      "\n"
     ]
    }
   ],
   "source": [
    "name = input('Qual o seu primeiro nome?')\n",
    "surname = input('Qual é o seu sobrenome?')\n",
    "print(name + surname)"
   ]
  },
  {
   "cell_type": "code",
   "execution_count": 34,
   "id": "12712fa6",
   "metadata": {},
   "outputs": [
    {
     "name": "stdout",
     "output_type": "stream",
     "text": [
      " \n"
     ]
    }
   ],
   "source": [
    "print(name + ' ' + surname)"
   ]
  },
  {
   "cell_type": "markdown",
   "id": "0bdcb76a",
   "metadata": {},
   "source": [
    "## Tipos de variáveis"
   ]
  },
  {
   "cell_type": "code",
   "execution_count": 35,
   "id": "51b5726d",
   "metadata": {},
   "outputs": [
    {
     "data": {
      "text/plain": [
       "int"
      ]
     },
     "execution_count": 35,
     "metadata": {},
     "output_type": "execute_result"
    }
   ],
   "source": [
    "tipo = 12\n",
    "type(tipo)"
   ]
  },
  {
   "cell_type": "code",
   "execution_count": 36,
   "id": "5899dd2c",
   "metadata": {},
   "outputs": [
    {
     "data": {
      "text/plain": [
       "float"
      ]
     },
     "execution_count": 36,
     "metadata": {},
     "output_type": "execute_result"
    }
   ],
   "source": [
    "tipo = 12.0\n",
    "type(tipo)"
   ]
  },
  {
   "cell_type": "code",
   "execution_count": 38,
   "id": "d1b889a5",
   "metadata": {},
   "outputs": [
    {
     "data": {
      "text/plain": [
       "str"
      ]
     },
     "execution_count": 38,
     "metadata": {},
     "output_type": "execute_result"
    }
   ],
   "source": [
    "tipo = 'texto'\n",
    "type(tipo)"
   ]
  },
  {
   "cell_type": "code",
   "execution_count": 39,
   "id": "7b40bfac",
   "metadata": {},
   "outputs": [
    {
     "data": {
      "text/plain": [
       "bool"
      ]
     },
     "execution_count": 39,
     "metadata": {},
     "output_type": "execute_result"
    }
   ],
   "source": [
    "tipo = True\n",
    "type(tipo)"
   ]
  },
  {
   "cell_type": "code",
   "execution_count": 40,
   "id": "15fef5c5",
   "metadata": {},
   "outputs": [
    {
     "data": {
      "text/plain": [
       "bool"
      ]
     },
     "execution_count": 40,
     "metadata": {},
     "output_type": "execute_result"
    }
   ],
   "source": [
    "tipo = False\n",
    "type(tipo)"
   ]
  },
  {
   "cell_type": "code",
   "execution_count": 41,
   "id": "2e8dd4d1",
   "metadata": {},
   "outputs": [
    {
     "data": {
      "text/plain": [
       "list"
      ]
     },
     "execution_count": 41,
     "metadata": {},
     "output_type": "execute_result"
    }
   ],
   "source": [
    "tipo = []\n",
    "type(tipo)"
   ]
  },
  {
   "cell_type": "code",
   "execution_count": 42,
   "id": "ddb11d6d",
   "metadata": {},
   "outputs": [
    {
     "data": {
      "text/plain": [
       "tuple"
      ]
     },
     "execution_count": 42,
     "metadata": {},
     "output_type": "execute_result"
    }
   ],
   "source": [
    "tipo = ()\n",
    "type(tipo)"
   ]
  },
  {
   "cell_type": "code",
   "execution_count": 43,
   "id": "dd261bba",
   "metadata": {},
   "outputs": [
    {
     "data": {
      "text/plain": [
       "dict"
      ]
     },
     "execution_count": 43,
     "metadata": {},
     "output_type": "execute_result"
    }
   ],
   "source": [
    "tipo = {}\n",
    "type(tipo)"
   ]
  },
  {
   "cell_type": "markdown",
   "id": "bae075cf",
   "metadata": {},
   "source": [
    "## Misturando tipos de variáveis"
   ]
  },
  {
   "cell_type": "code",
   "execution_count": 45,
   "id": "6edfc3c0",
   "metadata": {},
   "outputs": [],
   "source": [
    "faturamento = 2000\n",
    "custo = 500\n",
    "lucro = faturamento - custo"
   ]
  },
  {
   "cell_type": "code",
   "execution_count": 46,
   "id": "8e778ab1",
   "metadata": {},
   "outputs": [
    {
     "name": "stdout",
     "output_type": "stream",
     "text": [
      "O faturamento da loja foi 2000 reais\n"
     ]
    }
   ],
   "source": [
    "print('O faturamento da loja foi ' + str(faturamento) + ' reais')"
   ]
  },
  {
   "cell_type": "code",
   "execution_count": 47,
   "id": "817807d5",
   "metadata": {},
   "outputs": [
    {
     "name": "stdout",
     "output_type": "stream",
     "text": [
      "O custo da loja foi 500 reais\n"
     ]
    }
   ],
   "source": [
    "print('O custo da loja foi ' + str(custo) + ' reais')"
   ]
  },
  {
   "cell_type": "code",
   "execution_count": 48,
   "id": "75c89efa",
   "metadata": {},
   "outputs": [
    {
     "name": "stdout",
     "output_type": "stream",
     "text": [
      "O lucro que a loja obteve foi 1500 reais\n"
     ]
    }
   ],
   "source": [
    "print('O lucro que a loja obteve foi ' + str(lucro) + ' reais')"
   ]
  },
  {
   "cell_type": "code",
   "execution_count": 49,
   "id": "956ec4dd",
   "metadata": {},
   "outputs": [
    {
     "name": "stdout",
     "output_type": "stream",
     "text": [
      "A loja teve um faturamento de 2000 reais, e um lucro líquido de 1500 reais.\n"
     ]
    }
   ],
   "source": [
    "print('A loja teve um faturamento de ' + str(faturamento) + ' reais, e um lucro líquido de ' + str(lucro) + ' reais.')"
   ]
  },
  {
   "cell_type": "code",
   "execution_count": null,
   "id": "bfe27c93",
   "metadata": {},
   "outputs": [],
   "source": []
  }
 ],
 "metadata": {
  "kernelspec": {
   "display_name": "Python 3 (ipykernel)",
   "language": "python",
   "name": "python3"
  },
  "language_info": {
   "codemirror_mode": {
    "name": "ipython",
    "version": 3
   },
   "file_extension": ".py",
   "mimetype": "text/x-python",
   "name": "python",
   "nbconvert_exporter": "python",
   "pygments_lexer": "ipython3",
   "version": "3.9.7"
  }
 },
 "nbformat": 4,
 "nbformat_minor": 5
}
