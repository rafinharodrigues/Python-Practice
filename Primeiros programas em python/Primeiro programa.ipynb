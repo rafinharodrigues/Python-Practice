{
 "cells": [
  {
   "cell_type": "markdown",
   "id": "4b47f9ee",
   "metadata": {},
   "source": [
    "## Meu primeiro programa"
   ]
  },
  {
   "cell_type": "code",
   "execution_count": 1,
   "id": "9a512569",
   "metadata": {},
   "outputs": [
    {
     "name": "stdout",
     "output_type": "stream",
     "text": [
      "123\n"
     ]
    }
   ],
   "source": [
    "print(123)"
   ]
  },
  {
   "cell_type": "code",
   "execution_count": 2,
   "id": "4caccb61",
   "metadata": {},
   "outputs": [
    {
     "name": "stdout",
     "output_type": "stream",
     "text": [
      "texto com aspas duplas\n"
     ]
    }
   ],
   "source": [
    "print(\"texto com aspas duplas\")"
   ]
  },
  {
   "cell_type": "code",
   "execution_count": 3,
   "id": "51779f6f",
   "metadata": {},
   "outputs": [
    {
     "name": "stdout",
     "output_type": "stream",
     "text": [
      "texto com aspas simples\n"
     ]
    }
   ],
   "source": [
    "print('texto com aspas simples')"
   ]
  },
  {
   "cell_type": "code",
   "execution_count": 5,
   "id": "52fff8e5",
   "metadata": {},
   "outputs": [
    {
     "ename": "SyntaxError",
     "evalue": "invalid syntax (Temp/ipykernel_18288/885276272.py, line 1)",
     "output_type": "error",
     "traceback": [
      "\u001b[1;36m  File \u001b[1;32m\"C:\\Users\\rafin\\AppData\\Local\\Temp/ipykernel_18288/885276272.py\"\u001b[1;36m, line \u001b[1;32m1\u001b[0m\n\u001b[1;33m    print(texto sem aspas) # print com texto sem aspas causa erro\u001b[0m\n\u001b[1;37m                ^\u001b[0m\n\u001b[1;31mSyntaxError\u001b[0m\u001b[1;31m:\u001b[0m invalid syntax\n"
     ]
    }
   ],
   "source": [
    "print(texto sem aspas) # print com texto sem aspas causa erro"
   ]
  },
  {
   "cell_type": "markdown",
   "id": "d5cd888b",
   "metadata": {},
   "source": [
    "## Operações básicas"
   ]
  },
  {
   "cell_type": "code",
   "execution_count": 6,
   "id": "4623d4a2",
   "metadata": {},
   "outputs": [
    {
     "name": "stdout",
     "output_type": "stream",
     "text": [
      "4\n"
     ]
    }
   ],
   "source": [
    "print(2 + 2)"
   ]
  },
  {
   "cell_type": "code",
   "execution_count": 7,
   "id": "c81185b4",
   "metadata": {},
   "outputs": [
    {
     "name": "stdout",
     "output_type": "stream",
     "text": [
      "0\n"
     ]
    }
   ],
   "source": [
    "print(2 - 2)"
   ]
  },
  {
   "cell_type": "code",
   "execution_count": 8,
   "id": "65217272",
   "metadata": {},
   "outputs": [
    {
     "name": "stdout",
     "output_type": "stream",
     "text": [
      "9\n"
     ]
    }
   ],
   "source": [
    "print(3 * 3)"
   ]
  },
  {
   "cell_type": "code",
   "execution_count": 9,
   "id": "06dcd9bf",
   "metadata": {},
   "outputs": [
    {
     "name": "stdout",
     "output_type": "stream",
     "text": [
      "1.0\n"
     ]
    }
   ],
   "source": [
    "print(3 / 3)"
   ]
  },
  {
   "cell_type": "code",
   "execution_count": 10,
   "id": "e8f553fb",
   "metadata": {},
   "outputs": [
    {
     "name": "stdout",
     "output_type": "stream",
     "text": [
      "1.5\n"
     ]
    }
   ],
   "source": [
    "print(3.0 / 2)"
   ]
  },
  {
   "cell_type": "code",
   "execution_count": 11,
   "id": "4e19a694",
   "metadata": {},
   "outputs": [
    {
     "name": "stdout",
     "output_type": "stream",
     "text": [
      "1.5\n"
     ]
    }
   ],
   "source": [
    "print(3 / 2)"
   ]
  },
  {
   "cell_type": "code",
   "execution_count": 16,
   "id": "d3596e4b",
   "metadata": {},
   "outputs": [
    {
     "name": "stdout",
     "output_type": "stream",
     "text": [
      "1\n"
     ]
    }
   ],
   "source": [
    "print(3 // 2)"
   ]
  },
  {
   "cell_type": "code",
   "execution_count": 17,
   "id": "b4fbf696",
   "metadata": {},
   "outputs": [
    {
     "name": "stdout",
     "output_type": "stream",
     "text": [
      "1.0\n"
     ]
    }
   ],
   "source": [
    "print(3.0 // 2)"
   ]
  },
  {
   "cell_type": "code",
   "execution_count": 13,
   "id": "6193a32e",
   "metadata": {},
   "outputs": [
    {
     "name": "stdout",
     "output_type": "stream",
     "text": [
      "27\n"
     ]
    }
   ],
   "source": [
    "print(3 ** 3)"
   ]
  },
  {
   "cell_type": "code",
   "execution_count": 14,
   "id": "9dc715d4",
   "metadata": {},
   "outputs": [
    {
     "name": "stdout",
     "output_type": "stream",
     "text": [
      "1\n"
     ]
    }
   ],
   "source": [
    "print( 7 % 3)"
   ]
  },
  {
   "cell_type": "code",
   "execution_count": 18,
   "id": "3c421586",
   "metadata": {},
   "outputs": [
    {
     "name": "stdout",
     "output_type": "stream",
     "text": [
      "0\n"
     ]
    }
   ],
   "source": [
    "print(10 % 2)"
   ]
  },
  {
   "cell_type": "markdown",
   "id": "f7d5292b",
   "metadata": {},
   "source": [
    "## Ordem das operações no Python"
   ]
  },
  {
   "cell_type": "code",
   "execution_count": 19,
   "id": "b346ef54",
   "metadata": {},
   "outputs": [
    {
     "name": "stdout",
     "output_type": "stream",
     "text": [
      "4\n"
     ]
    }
   ],
   "source": [
    "print(2 + 2)"
   ]
  },
  {
   "cell_type": "code",
   "execution_count": 20,
   "id": "a5c13079",
   "metadata": {},
   "outputs": [
    {
     "name": "stdout",
     "output_type": "stream",
     "text": [
      "5\n"
     ]
    }
   ],
   "source": [
    "print(2 + 1 + 2)"
   ]
  },
  {
   "cell_type": "code",
   "execution_count": 22,
   "id": "b803388e",
   "metadata": {},
   "outputs": [
    {
     "name": "stdout",
     "output_type": "stream",
     "text": [
      "8\n"
     ]
    }
   ],
   "source": [
    "print(2 + 3 * 2)"
   ]
  },
  {
   "cell_type": "code",
   "execution_count": 23,
   "id": "dba9d2a7",
   "metadata": {},
   "outputs": [
    {
     "name": "stdout",
     "output_type": "stream",
     "text": [
      "10\n"
     ]
    }
   ],
   "source": [
    "print((2 + 3) * 2)"
   ]
  },
  {
   "cell_type": "code",
   "execution_count": 26,
   "id": "09cc7614",
   "metadata": {},
   "outputs": [
    {
     "name": "stdout",
     "output_type": "stream",
     "text": [
      "8\n"
     ]
    }
   ],
   "source": [
    "print(2 + (3 * 2))"
   ]
  },
  {
   "cell_type": "markdown",
   "id": "413ba5af",
   "metadata": {},
   "source": [
    "## Operações com strings"
   ]
  },
  {
   "cell_type": "code",
   "execution_count": 27,
   "id": "4250bdbe",
   "metadata": {},
   "outputs": [
    {
     "name": "stdout",
     "output_type": "stream",
     "text": [
      "O garotoexemplar.\n"
     ]
    }
   ],
   "source": [
    "print('O garoto' + 'exemplar.')"
   ]
  },
  {
   "cell_type": "code",
   "execution_count": 28,
   "id": "70c9901e",
   "metadata": {},
   "outputs": [
    {
     "name": "stdout",
     "output_type": "stream",
     "text": [
      "O garoto exemplar.\n"
     ]
    }
   ],
   "source": [
    "print('O garoto ' + 'exemplar.')"
   ]
  },
  {
   "cell_type": "code",
   "execution_count": 30,
   "id": "e59224a8",
   "metadata": {},
   "outputs": [
    {
     "name": "stdout",
     "output_type": "stream",
     "text": [
      "True\n"
     ]
    }
   ],
   "source": [
    "print('t' in 'O garoto exemplar.')"
   ]
  },
  {
   "cell_type": "code",
   "execution_count": 32,
   "id": "5ab98d24",
   "metadata": {},
   "outputs": [
    {
     "name": "stdout",
     "output_type": "stream",
     "text": [
      "False\n"
     ]
    }
   ],
   "source": [
    "print('T' in 'O garoto exemplar.')"
   ]
  },
  {
   "cell_type": "markdown",
   "id": "00bdd810",
   "metadata": {},
   "source": [
    "## Variáveis"
   ]
  },
  {
   "cell_type": "code",
   "execution_count": 36,
   "id": "604ddc5f",
   "metadata": {},
   "outputs": [],
   "source": [
    "num = 1500\n",
    "name = 'rafael'"
   ]
  },
  {
   "cell_type": "code",
   "execution_count": 37,
   "id": "04e5af9f",
   "metadata": {},
   "outputs": [
    {
     "name": "stdout",
     "output_type": "stream",
     "text": [
      "1500\n"
     ]
    }
   ],
   "source": [
    "print(num)"
   ]
  },
  {
   "cell_type": "code",
   "execution_count": 38,
   "id": "19d3d82e",
   "metadata": {},
   "outputs": [
    {
     "name": "stdout",
     "output_type": "stream",
     "text": [
      "rafael\n"
     ]
    }
   ],
   "source": [
    "print(name)"
   ]
  },
  {
   "cell_type": "code",
   "execution_count": 40,
   "id": "d8ffe8c4",
   "metadata": {},
   "outputs": [
    {
     "name": "stdout",
     "output_type": "stream",
     "text": [
      "rafael 1500\n"
     ]
    }
   ],
   "source": [
    "print(name, num)"
   ]
  },
  {
   "cell_type": "markdown",
   "id": "85ebf028",
   "metadata": {},
   "source": [
    "## Input - Pegando informações do usuário"
   ]
  },
  {
   "cell_type": "code",
   "execution_count": 41,
   "id": "14b7e1fb",
   "metadata": {},
   "outputs": [
    {
     "name": "stdout",
     "output_type": "stream",
     "text": [
      "Qual é o seu nome?rafael\n"
     ]
    },
    {
     "data": {
      "text/plain": [
       "'rafael'"
      ]
     },
     "execution_count": 41,
     "metadata": {},
     "output_type": "execute_result"
    }
   ],
   "source": [
    "input('Qual é o seu nome?')"
   ]
  },
  {
   "cell_type": "code",
   "execution_count": 42,
   "id": "7ab97648",
   "metadata": {},
   "outputs": [
    {
     "name": "stdout",
     "output_type": "stream",
     "text": [
      "Qual é o seu nome?rafael\n"
     ]
    }
   ],
   "source": [
    "name = input('Qual é o seu nome?')"
   ]
  },
  {
   "cell_type": "code",
   "execution_count": 44,
   "id": "f9890559",
   "metadata": {},
   "outputs": [
    {
     "name": "stdout",
     "output_type": "stream",
     "text": [
      "Qual é o seu nome?rafael\n",
      "rafael\n"
     ]
    }
   ],
   "source": [
    "name = input('Qual é o seu nome?')\n",
    "print(name)"
   ]
  },
  {
   "cell_type": "code",
   "execution_count": 45,
   "id": "ef42149c",
   "metadata": {},
   "outputs": [
    {
     "name": "stdout",
     "output_type": "stream",
     "text": [
      "Qual o seu primeiro nome?rafael\n",
      "Qual é o seu sobrenome?rodrigues\n",
      "rafaelrodrigues\n"
     ]
    }
   ],
   "source": [
    "name = input('Qual o seu primeiro nome?')\n",
    "surname = input('Qual é o seu sobrenome?')\n",
    "print(name + surname)"
   ]
  },
  {
   "cell_type": "code",
   "execution_count": 46,
   "id": "12712fa6",
   "metadata": {},
   "outputs": [
    {
     "name": "stdout",
     "output_type": "stream",
     "text": [
      "rafael rodrigues\n"
     ]
    }
   ],
   "source": [
    "print(name + ' ' + surname)"
   ]
  }
 ],
 "metadata": {
  "kernelspec": {
   "display_name": "Python 3 (ipykernel)",
   "language": "python",
   "name": "python3"
  },
  "language_info": {
   "codemirror_mode": {
    "name": "ipython",
    "version": 3
   },
   "file_extension": ".py",
   "mimetype": "text/x-python",
   "name": "python",
   "nbconvert_exporter": "python",
   "pygments_lexer": "ipython3",
   "version": "3.9.7"
  }
 },
 "nbformat": 4,
 "nbformat_minor": 5
}
