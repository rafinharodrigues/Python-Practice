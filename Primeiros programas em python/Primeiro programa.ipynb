{
 "cells": [
  {
   "cell_type": "markdown",
   "id": "4b47f9ee",
   "metadata": {},
   "source": [
    "## Meu primeiro programa"
   ]
  },
  {
   "cell_type": "code",
   "execution_count": 1,
   "id": "9a512569",
   "metadata": {},
   "outputs": [
    {
     "name": "stdout",
     "output_type": "stream",
     "text": [
      "123\n"
     ]
    }
   ],
   "source": [
    "print(123)"
   ]
  },
  {
   "cell_type": "code",
   "execution_count": 2,
   "id": "bd9fdcf1",
   "metadata": {},
   "outputs": [
    {
     "name": "stdout",
     "output_type": "stream",
     "text": [
      "texto com aspas duplas\n"
     ]
    }
   ],
   "source": [
    "print(\"texto com aspas duplas\")"
   ]
  },
  {
   "cell_type": "code",
   "execution_count": 3,
   "id": "ac8da853",
   "metadata": {},
   "outputs": [
    {
     "name": "stdout",
     "output_type": "stream",
     "text": [
      "texto com aspas simples\n"
     ]
    }
   ],
   "source": [
    "print('texto com aspas simples')"
   ]
  },
  {
   "cell_type": "code",
   "execution_count": 5,
   "id": "b2bcc63f",
   "metadata": {},
   "outputs": [
    {
     "ename": "SyntaxError",
     "evalue": "invalid syntax (Temp/ipykernel_18288/885276272.py, line 1)",
     "output_type": "error",
     "traceback": [
      "\u001b[1;36m  File \u001b[1;32m\"C:\\Users\\rafin\\AppData\\Local\\Temp/ipykernel_18288/885276272.py\"\u001b[1;36m, line \u001b[1;32m1\u001b[0m\n\u001b[1;33m    print(texto sem aspas) # print com texto sem aspas causa erro\u001b[0m\n\u001b[1;37m                ^\u001b[0m\n\u001b[1;31mSyntaxError\u001b[0m\u001b[1;31m:\u001b[0m invalid syntax\n"
     ]
    }
   ],
   "source": [
    "print(texto sem aspas) # print com texto sem aspas causa erro"
   ]
  },
  {
   "cell_type": "markdown",
   "id": "c09aeb39",
   "metadata": {},
   "source": [
    "## Operações básicas"
   ]
  },
  {
   "cell_type": "code",
   "execution_count": 6,
   "id": "1887edf4",
   "metadata": {},
   "outputs": [
    {
     "name": "stdout",
     "output_type": "stream",
     "text": [
      "4\n"
     ]
    }
   ],
   "source": [
    "print(2 + 2)"
   ]
  },
  {
   "cell_type": "code",
   "execution_count": 7,
   "id": "a1084ccb",
   "metadata": {},
   "outputs": [
    {
     "name": "stdout",
     "output_type": "stream",
     "text": [
      "0\n"
     ]
    }
   ],
   "source": [
    "print(2 - 2)"
   ]
  },
  {
   "cell_type": "code",
   "execution_count": 8,
   "id": "d59582af",
   "metadata": {},
   "outputs": [
    {
     "name": "stdout",
     "output_type": "stream",
     "text": [
      "9\n"
     ]
    }
   ],
   "source": [
    "print(3 * 3)"
   ]
  },
  {
   "cell_type": "code",
   "execution_count": 9,
   "id": "73e29e25",
   "metadata": {},
   "outputs": [
    {
     "name": "stdout",
     "output_type": "stream",
     "text": [
      "1.0\n"
     ]
    }
   ],
   "source": [
    "print(3 / 3)"
   ]
  },
  {
   "cell_type": "code",
   "execution_count": 10,
   "id": "9af02a38",
   "metadata": {},
   "outputs": [
    {
     "name": "stdout",
     "output_type": "stream",
     "text": [
      "1.5\n"
     ]
    }
   ],
   "source": [
    "print(3.0 / 2)"
   ]
  },
  {
   "cell_type": "code",
   "execution_count": 11,
   "id": "a4ff73b5",
   "metadata": {},
   "outputs": [
    {
     "name": "stdout",
     "output_type": "stream",
     "text": [
      "1.5\n"
     ]
    }
   ],
   "source": [
    "print(3 / 2)"
   ]
  },
  {
   "cell_type": "code",
   "execution_count": 16,
   "id": "b9a94c54",
   "metadata": {},
   "outputs": [
    {
     "name": "stdout",
     "output_type": "stream",
     "text": [
      "1\n"
     ]
    }
   ],
   "source": [
    "print(3 // 2)"
   ]
  },
  {
   "cell_type": "code",
   "execution_count": 17,
   "id": "6c2a1d57",
   "metadata": {},
   "outputs": [
    {
     "name": "stdout",
     "output_type": "stream",
     "text": [
      "1.0\n"
     ]
    }
   ],
   "source": [
    "print(3.0 // 2)"
   ]
  },
  {
   "cell_type": "code",
   "execution_count": 13,
   "id": "f09d1eb1",
   "metadata": {},
   "outputs": [
    {
     "name": "stdout",
     "output_type": "stream",
     "text": [
      "27\n"
     ]
    }
   ],
   "source": [
    "print(3 ** 3)"
   ]
  },
  {
   "cell_type": "code",
   "execution_count": 14,
   "id": "9738eb29",
   "metadata": {},
   "outputs": [
    {
     "name": "stdout",
     "output_type": "stream",
     "text": [
      "1\n"
     ]
    }
   ],
   "source": [
    "print( 7 % 3)"
   ]
  },
  {
   "cell_type": "code",
   "execution_count": 18,
   "id": "479827b8",
   "metadata": {},
   "outputs": [
    {
     "name": "stdout",
     "output_type": "stream",
     "text": [
      "0\n"
     ]
    }
   ],
   "source": [
    "print(10 % 2)"
   ]
  },
  {
   "cell_type": "markdown",
   "id": "076e51ee",
   "metadata": {},
   "source": [
    "## Ordem das operações no Python"
   ]
  },
  {
   "cell_type": "code",
   "execution_count": 19,
   "id": "e257e57c",
   "metadata": {},
   "outputs": [
    {
     "name": "stdout",
     "output_type": "stream",
     "text": [
      "4\n"
     ]
    }
   ],
   "source": [
    "print(2 + 2)"
   ]
  },
  {
   "cell_type": "code",
   "execution_count": 20,
   "id": "93d1730d",
   "metadata": {},
   "outputs": [
    {
     "name": "stdout",
     "output_type": "stream",
     "text": [
      "5\n"
     ]
    }
   ],
   "source": [
    "print(2 + 1 + 2)"
   ]
  },
  {
   "cell_type": "code",
   "execution_count": 22,
   "id": "78d0aec7",
   "metadata": {},
   "outputs": [
    {
     "name": "stdout",
     "output_type": "stream",
     "text": [
      "8\n"
     ]
    }
   ],
   "source": [
    "print(2 + 3 * 2)"
   ]
  },
  {
   "cell_type": "code",
   "execution_count": 23,
   "id": "9b49e2bf",
   "metadata": {},
   "outputs": [
    {
     "name": "stdout",
     "output_type": "stream",
     "text": [
      "10\n"
     ]
    }
   ],
   "source": [
    "print((2 + 3) * 2)"
   ]
  },
  {
   "cell_type": "code",
   "execution_count": 25,
   "id": "6a4d856e",
   "metadata": {},
   "outputs": [
    {
     "name": "stdout",
     "output_type": "stream",
     "text": [
      "8\n"
     ]
    }
   ],
   "source": [
    "print(2 + (3 * 2))"
   ]
  },
  {
   "cell_type": "code",
   "execution_count": null,
   "id": "9b834739",
   "metadata": {},
   "outputs": [],
   "source": []
  }
 ],
 "metadata": {
  "kernelspec": {
   "display_name": "Python 3 (ipykernel)",
   "language": "python",
   "name": "python3"
  },
  "language_info": {
   "codemirror_mode": {
    "name": "ipython",
    "version": 3
   },
   "file_extension": ".py",
   "mimetype": "text/x-python",
   "name": "python",
   "nbconvert_exporter": "python",
   "pygments_lexer": "ipython3",
   "version": "3.9.7"
  }
 },
 "nbformat": 4,
 "nbformat_minor": 5
}
